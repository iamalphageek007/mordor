{
 "cells": [
  {
   "cell_type": "markdown",
   "metadata": {},
   "source": [
    "# Covenant SharpSC Stop Service"
   ]
  },
  {
   "cell_type": "markdown",
   "metadata": {},
   "source": [
    "## Metadata"
   ]
  },
  {
   "cell_type": "markdown",
   "metadata": {},
   "source": [
    "\n",
    "|                   |    |\n",
    "|:------------------|:---|\n",
    "| Author            | Roberto Rodriguez @Cyb3rWard0g |\n",
    "| Creation Date     | 2020/08/06 |\n",
    "| Modification Date | 2020/08/06 |\n",
    "| Tactics           | ['[TA0008](https://attack.mitre.org/tactics/TA0008)'] |\n",
    "| Techniques        | ['[T1021.002](https://attack.mitre.org/techniques/T1021/002)'] |\n",
    "| Tags              | ['RPC ControlService', 'Stop Service', 'SMB Svcctl'] |"
   ]
  },
  {
   "cell_type": "markdown",
   "metadata": {},
   "source": [
    "## Dataset Description\n",
    "This dataset represents a threat actor using the RPC ControlService method over SMB to stop a service."
   ]
  },
  {
   "cell_type": "markdown",
   "metadata": {},
   "source": [
    "## Datasets Downloads"
   ]
  },
  {
   "cell_type": "markdown",
   "metadata": {},
   "source": [
    "\n",
    "| Dataset Type | Link   |\n",
    "|:-------------|:-------|\n",
    "| Host | [https://raw.githubusercontent.com/OTRF/mordor/master/datasets/small/windows/lateral_movement/host/covenant_sharpsc_stop_dcerpc_smb_svcctl.zip](https://raw.githubusercontent.com/OTRF/mordor/master/datasets/small/windows/lateral_movement/host/covenant_sharpsc_stop_dcerpc_smb_svcctl.zip) |\n",
    "| Host | [https://raw.githubusercontent.com/OTRF/mordor/master/datasets/small/windows/lateral_movement/network/covenant_sharpsc_stop_dcerpc_smb_svcctl.zip](https://raw.githubusercontent.com/OTRF/mordor/master/datasets/small/windows/lateral_movement/network/covenant_sharpsc_stop_dcerpc_smb_svcctl.zip) |"
   ]
  },
  {
   "cell_type": "markdown",
   "metadata": {},
   "source": [
    "## Notebooks\n",
    "Notebooks created by the community leveraging the mordor datasets"
   ]
  },
  {
   "cell_type": "markdown",
   "metadata": {},
   "source": [
    "\n",
    "| Author | Name | Link |\n",
    "|:-------|:-----|:-----|"
   ]
  },
  {
   "cell_type": "markdown",
   "metadata": {},
   "source": [
    "## Simulation Plan"
   ]
  },
  {
   "cell_type": "markdown",
   "metadata": {},
   "source": [
    "\n",
    "| Environment | Tool Type | Module |\n",
    "|:------------|:----------|:-------|\n",
    "| Mordor shire | C2 | [SharpSC](https://github.com/cobbr/Covenant/blob/19e4a17048ade1b854241bb5d938398860ab5981/Covenant/Data/Tasks/SharpSC.yaml) |"
   ]
  },
  {
   "cell_type": "markdown",
   "metadata": {},
   "source": [
    "## Adversary View\n",
    "```\n",
    "(wardog) > SharpSC /command:\"action=stop computername=WORKSTATION6 service=ikeext\"\n",
    "\n",
    "[*] Attempting to stop service ikeext on WORKSTATION6...\n",
    "\n",
    "[+] Successfully stopped ikeext on WORKSTATION6!\n",
    "\n",
    "  DisplayName: IKE and AuthIP IPsec Keying Modules\n",
    "\n",
    "  ServiceName: ikeext\n",
    "\n",
    "  Status     : Stopped\n",
    "\n",
    "  CanStop    : False\n",
    "  https://github.com/djhohnstein/SharpSC\n",
    "```"
   ]
  },
  {
   "cell_type": "markdown",
   "metadata": {},
   "source": [
    "## Explore Mordor Dataset"
   ]
  },
  {
   "cell_type": "markdown",
   "metadata": {},
   "source": [
    "### Initialize Analytics Engine"
   ]
  },
  {
   "cell_type": "code",
   "execution_count": null,
   "metadata": {},
   "outputs": [],
   "source": [
    "from openhunt.mordorutils import *\n",
    "spark = get_spark()"
   ]
  },
  {
   "cell_type": "markdown",
   "metadata": {},
   "source": [
    "### Download & Process Mordor File"
   ]
  },
  {
   "cell_type": "code",
   "execution_count": null,
   "metadata": {},
   "outputs": [],
   "source": [
    "mordor_file = \"https://raw.githubusercontent.com/OTRF/mordor/master/datasets/small/windows/lateral_movement/host/covenant_sharpsc_stop_dcerpc_smb_svcctl.zip\"\n",
    "registerMordorSQLTable(spark, mordor_file, \"mordorTable\")"
   ]
  },
  {
   "cell_type": "markdown",
   "metadata": {},
   "source": [
    "### Get to know your data"
   ]
  },
  {
   "cell_type": "code",
   "execution_count": null,
   "metadata": {},
   "outputs": [],
   "source": [
    "df = spark.sql(\n",
    "'''\n",
    "SELECT Hostname,Channel,EventID, Count(*) as count\n",
    "FROM mordorTable\n",
    "GROUP BY Hostname,Channel,EventID\n",
    "ORDER BY count DESC\n",
    "'''\n",
    ")\n",
    "df.show(truncate=False)"
   ]
  }
 ],
 "metadata": {
  "kernelspec": {
   "display_name": "PySpark_Python3",
   "language": "python",
   "name": "pyspark3"
  },
  "language_info": {
   "codemirror_mode": {
    "name": "ipython",
    "version": 3
   },
   "file_extension": ".py",
   "mimetype": "text/x-python",
   "name": "python",
   "nbconvert_exporter": "python",
   "pygments_lexer": "ipython3",
   "version": "3.7.3"
  }
 },
 "nbformat": 4,
 "nbformat_minor": 4
}
