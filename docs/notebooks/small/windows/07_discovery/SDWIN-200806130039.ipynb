{
 "cells": [
  {
   "cell_type": "markdown",
   "metadata": {},
   "source": [
    "# Covenant GetDomainGroup Domain Admins"
   ]
  },
  {
   "cell_type": "markdown",
   "metadata": {},
   "source": [
    "## Metadata"
   ]
  },
  {
   "cell_type": "markdown",
   "metadata": {},
   "source": [
    "\n",
    "|                   |    |\n",
    "|:------------------|:---|\n",
    "| Author            | Roberto Rodriguez @Cyb3rWard0g |\n",
    "| Creation Date     | 2020/08/06 |\n",
    "| Modification Date | 2020/08/06 |\n",
    "| Tactics           | ['[TA0007](https://attack.mitre.org/tactics/TA0007)'] |\n",
    "| Techniques        | ['[T1069.002](https://attack.mitre.org/techniques/T1069/002)'] |\n",
    "| Tags              | ['Domain Groups Enumeration', 'LDAP SearchRequest'] |"
   ]
  },
  {
   "cell_type": "markdown",
   "metadata": {},
   "source": [
    "## Dataset Description\n",
    "This dataset represents a threat actor enumerating the domain groups via LDAP (i.e. SearchRequest Method) in an environment."
   ]
  },
  {
   "cell_type": "markdown",
   "metadata": {},
   "source": [
    "## Datasets Downloads"
   ]
  },
  {
   "cell_type": "markdown",
   "metadata": {},
   "source": [
    "\n",
    "| Dataset Type | Link   |\n",
    "|:-------------|:-------|\n",
    "| Host | [https://raw.githubusercontent.com/OTRF/mordor/master/datasets/small/windows/discovery/host/covenant_getdomaingroup_ldap_searchrequest_domain_admins.zip](https://raw.githubusercontent.com/OTRF/mordor/master/datasets/small/windows/discovery/host/covenant_getdomaingroup_ldap_searchrequest_domain_admins.zip) |\n",
    "| Network | [https://raw.githubusercontent.com/OTRF/mordor/master/datasets/small/windows/discovery/network/covenant_getdomaingroup_ldap_searchrequest_domain_admins.zip](https://raw.githubusercontent.com/OTRF/mordor/master/datasets/small/windows/discovery/network/covenant_getdomaingroup_ldap_searchrequest_domain_admins.zip) |"
   ]
  },
  {
   "cell_type": "markdown",
   "metadata": {},
   "source": [
    "## Notebooks\n",
    "Notebooks created by the community leveraging the mordor datasets"
   ]
  },
  {
   "cell_type": "markdown",
   "metadata": {},
   "source": [
    "\n",
    "| Author | Name | Link |\n",
    "|:-------|:-----|:-----|"
   ]
  },
  {
   "cell_type": "markdown",
   "metadata": {},
   "source": [
    "## Simulation Plan"
   ]
  },
  {
   "cell_type": "markdown",
   "metadata": {},
   "source": [
    "\n",
    "| Environment | Tool Type | Module |\n",
    "|:------------|:----------|:-------|\n",
    "| Mordor shire | C2 | [GetDomainGroup](https://github.com/cobbr/Covenant/blob/19e4a17048ade1b854241bb5d938398860ab5981/Covenant/Data/Tasks/SharpSploit.Enumeration.yaml) |"
   ]
  },
  {
   "cell_type": "markdown",
   "metadata": {},
   "source": [
    "## Adversary View\n",
    "```\n",
    "[09/22/2020 18:10:15 UTC] GetDomainGroup completed\n",
    "(wardog) > GetDomainGroup /identities:\"Domain Admins\"\n",
    "samaccountname: Domain Admins\n",
    "samaccounttype: GROUP_OBJECT\n",
    "distinguishedname: CN=Domain Admins,CN=Users,DC=theshire,DC=local\n",
    "cn: Domain Admins\n",
    "objectsid: S-1-5-21-4228717743-1032521047-1810997296-512\n",
    "grouptype: 0\n",
    "admincount: 1\n",
    "name: Domain Admins\n",
    "description: Designated administrators of the domain\n",
    "memberof: CN=Denied RODC Password Replication Group,CN=Users,DC=theshire,DC=local, CN=Administrators,CN=Builtin,DC=theshire,DC=local\n",
    "useraccountcontrol: 0\n",
    "badpasswordtime: 1/1/0001 12:00:00 AM\n",
    "pwdlastset: 1/1/0001 12:00:00 AM\n",
    "whencreated: 9/17/2020 3:14:46 PM\n",
    "whenchanged: 9/17/2020 3:29:58 PM\n",
    "accountexpires: 1/1/0001 12:00:00 AM\n",
    "lastlogon: 1/1/0001 12:00:00 AM\n",
    "lastlogoff: 1/1/0001 12:00:00 AM\n",
    "objectcategory: CN=Group,CN=Schema,CN=Configuration,DC=theshire,DC=local\n",
    "usnchanged: 12909\n",
    "instancetype: 4\n",
    "objectclass: top, group\n",
    "iscriticalsystemobject: True\n",
    "usncreated: 12345\n",
    "dscorepropagationdata: 9/17/2020 3:29:58 PM, 9/17/2020 3:14:47 PM, 1/1/1601 12:04:16 AM\n",
    "adspath: LDAP://CN=Domain Admins,CN=Users,DC=theshire,DC=local\n",
    "objectguid: bba6ff30-abfc-4166-b209-5e6edd49366b\n",
    "lastlogontimestamp: 1/1/0001 12:00:00 AM\n",
    "```"
   ]
  },
  {
   "cell_type": "markdown",
   "metadata": {},
   "source": [
    "## Explore Mordor Dataset"
   ]
  },
  {
   "cell_type": "markdown",
   "metadata": {},
   "source": [
    "### Initialize Analytics Engine"
   ]
  },
  {
   "cell_type": "code",
   "execution_count": null,
   "metadata": {},
   "outputs": [],
   "source": [
    "from openhunt.mordorutils import *\n",
    "spark = get_spark()"
   ]
  },
  {
   "cell_type": "markdown",
   "metadata": {},
   "source": [
    "### Download & Process Mordor File"
   ]
  },
  {
   "cell_type": "code",
   "execution_count": null,
   "metadata": {},
   "outputs": [],
   "source": [
    "mordor_file = \"https://raw.githubusercontent.com/OTRF/mordor/master/datasets/small/windows/discovery/host/covenant_getdomaingroup_ldap_searchrequest_domain_admins.zip\"\n",
    "registerMordorSQLTable(spark, mordor_file, \"mordorTable\")"
   ]
  },
  {
   "cell_type": "markdown",
   "metadata": {},
   "source": [
    "### Get to know your data"
   ]
  },
  {
   "cell_type": "code",
   "execution_count": null,
   "metadata": {},
   "outputs": [],
   "source": [
    "df = spark.sql(\n",
    "'''\n",
    "SELECT Hostname,Channel,EventID, Count(*) as count\n",
    "FROM mordorTable\n",
    "GROUP BY Hostname,Channel,EventID\n",
    "ORDER BY count DESC\n",
    "'''\n",
    ")\n",
    "df.show(truncate=False)"
   ]
  }
 ],
 "metadata": {
  "kernelspec": {
   "display_name": "PySpark_Python3",
   "language": "python",
   "name": "pyspark3"
  },
  "language_info": {
   "codemirror_mode": {
    "name": "ipython",
    "version": 3
   },
   "file_extension": ".py",
   "mimetype": "text/x-python",
   "name": "python",
   "nbconvert_exporter": "python",
   "pygments_lexer": "ipython3",
   "version": "3.7.3"
  }
 },
 "nbformat": 4,
 "nbformat_minor": 4
}
