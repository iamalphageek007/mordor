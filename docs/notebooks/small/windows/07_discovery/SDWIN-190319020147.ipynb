{
 "cells": [
  {
   "cell_type": "markdown",
   "metadata": {},
   "source": [
    "# Empire Net Local Administrators Group"
   ]
  },
  {
   "cell_type": "markdown",
   "metadata": {},
   "source": [
    "## Metadata"
   ]
  },
  {
   "cell_type": "markdown",
   "metadata": {},
   "source": [
    "\n",
    "|                   |    |\n",
    "|:------------------|:---|\n",
    "| Author            | Roberto Rodriguez @Cyb3rWard0g |\n",
    "| Creation Date     | 2019/03/19 |\n",
    "| Modification Date | 2020/09/20 |\n",
    "| Tactics           | ['[TA0007](https://attack.mitre.org/tactics/TA0007)'] |\n",
    "| Techniques        | ['[T1069.001](https://attack.mitre.org/techniques/T1069/001)'] |\n",
    "| Tags              | ['Local Administrators Group Enumeration'] |"
   ]
  },
  {
   "cell_type": "markdown",
   "metadata": {},
   "source": [
    "## Dataset Description\n",
    "This dataset represents adversaries enumerating members of the local Administratrors group via the net.exe utility"
   ]
  },
  {
   "cell_type": "markdown",
   "metadata": {},
   "source": [
    "## Datasets Downloads"
   ]
  },
  {
   "cell_type": "markdown",
   "metadata": {},
   "source": [
    "\n",
    "| Dataset Type | Link   |\n",
    "|:-------------|:-------|\n",
    "| Host | [https://raw.githubusercontent.com/OTRF/mordor/master/datasets/small/windows/discovery/host/empire_shell_net_localgroup_administrators.zip](https://raw.githubusercontent.com/OTRF/mordor/master/datasets/small/windows/discovery/host/empire_shell_net_localgroup_administrators.zip) |"
   ]
  },
  {
   "cell_type": "markdown",
   "metadata": {},
   "source": [
    "## Notebooks\n",
    "Notebooks created by the community leveraging the mordor datasets"
   ]
  },
  {
   "cell_type": "markdown",
   "metadata": {},
   "source": [
    "\n",
    "| Author | Name | Link |\n",
    "|:-------|:-----|:-----|"
   ]
  },
  {
   "cell_type": "markdown",
   "metadata": {},
   "source": [
    "## Simulation Plan"
   ]
  },
  {
   "cell_type": "markdown",
   "metadata": {},
   "source": [
    "\n",
    "| Environment | Tool Type | Module |\n",
    "|:------------|:----------|:-------|\n",
    "| Mordor shire | C2 | [shell](net localgroup Administrators) |"
   ]
  },
  {
   "cell_type": "markdown",
   "metadata": {},
   "source": [
    "## Adversary View\n",
    "```\n",
    "(Empire: 1EHYPBVC) > agents\n",
    "\n",
    "[*] Active agents:\n",
    "\n",
    "Name     La Internal IP     Machine Name      Username                Process            PID    Delay    Last Seen            Listener\n",
    "----     -- -----------     ------------      --------                -------            ---    -----    ---------            ----------------\n",
    "4SUZ8X62 ps 172.18.39.5     WORKSTATION5      *THESHIRE\\pgustavo      powershell         4092   5/0.0    2020-09-21 21:59:29  http            \n",
    "1EHYPBVC ps 172.18.39.5     WORKSTATION5      *THESHIRE\\pgustavo      powershell         7456   5/0.0    2020-09-21 23:18:05  http            \n",
    "\n",
    "(Empire: agents) > interact 1EHYPBVC\n",
    "(Empire: 1EHYPBVC) > shell net localgroup Administrators\n",
    "[*] Tasked 1EHYPBVC to run TASK_SHELL\n",
    "[*] Agent 1EHYPBVC tasked with task ID 2\n",
    "(Empire: 1EHYPBVC) > \n",
    "Alias name     Administrators\n",
    "Comment        Administrators have complete and unrestricted access to the computer/domain\n",
    "\n",
    "Members\n",
    "\n",
    "-------------------------------------------------------------------------------\n",
    "THESHIRE\\Domain Admins\n",
    "wardog\n",
    "The command completed successfully.\n",
    "\n",
    "\n",
    "..Command execution completed.\n",
    "\n",
    "(Empire: 1EHYPBVC) >\n",
    "```"
   ]
  },
  {
   "cell_type": "markdown",
   "metadata": {},
   "source": [
    "## Explore Mordor Dataset"
   ]
  },
  {
   "cell_type": "markdown",
   "metadata": {},
   "source": [
    "### Initialize Analytics Engine"
   ]
  },
  {
   "cell_type": "code",
   "execution_count": null,
   "metadata": {},
   "outputs": [],
   "source": [
    "from openhunt.mordorutils import *\n",
    "spark = get_spark()"
   ]
  },
  {
   "cell_type": "markdown",
   "metadata": {},
   "source": [
    "### Download & Process Mordor File"
   ]
  },
  {
   "cell_type": "code",
   "execution_count": null,
   "metadata": {},
   "outputs": [],
   "source": [
    "mordor_file = \"https://raw.githubusercontent.com/OTRF/mordor/master/datasets/small/windows/discovery/host/empire_shell_net_localgroup_administrators.zip\"\n",
    "registerMordorSQLTable(spark, mordor_file, \"mordorTable\")"
   ]
  },
  {
   "cell_type": "markdown",
   "metadata": {},
   "source": [
    "### Get to know your data"
   ]
  },
  {
   "cell_type": "code",
   "execution_count": null,
   "metadata": {},
   "outputs": [],
   "source": [
    "df = spark.sql(\n",
    "'''\n",
    "SELECT Hostname,Channel,EventID, Count(*) as count\n",
    "FROM mordorTable\n",
    "GROUP BY Hostname,Channel,EventID\n",
    "ORDER BY count DESC\n",
    "'''\n",
    ")\n",
    "df.show(truncate=False)"
   ]
  }
 ],
 "metadata": {
  "kernelspec": {
   "display_name": "PySpark_Python3",
   "language": "python",
   "name": "pyspark3"
  },
  "language_info": {
   "codemirror_mode": {
    "name": "ipython",
    "version": 3
   },
   "file_extension": ".py",
   "mimetype": "text/x-python",
   "name": "python",
   "nbconvert_exporter": "python",
   "pygments_lexer": "ipython3",
   "version": "3.7.3"
  }
 },
 "nbformat": 4,
 "nbformat_minor": 4
}
