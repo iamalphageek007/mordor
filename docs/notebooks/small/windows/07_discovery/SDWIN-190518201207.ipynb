{
 "cells": [
  {
   "cell_type": "markdown",
   "metadata": {},
   "source": [
    "# Empire Shell Net Domain Admins"
   ]
  },
  {
   "cell_type": "markdown",
   "metadata": {},
   "source": [
    "## Metadata"
   ]
  },
  {
   "cell_type": "markdown",
   "metadata": {},
   "source": [
    "\n",
    "|                   |    |\n",
    "|:------------------|:---|\n",
    "| Author            | Roberto Rodriguez @Cyb3rWard0g |\n",
    "| Creation Date     | 2019/05/18 |\n",
    "| Modification Date | 2020/09/20 |\n",
    "| Tactics           | ['[TA0007](https://attack.mitre.org/tactics/TA0007)'] |\n",
    "| Techniques        | ['[T1069.002](https://attack.mitre.org/techniques/T1069/002)'] |\n",
    "| Tags              | ['Domain Groups Enumeration', 'RPC SAMR SamrQueryInformationGroup'] |"
   ]
  },
  {
   "cell_type": "markdown",
   "metadata": {},
   "source": [
    "## Dataset Description\n",
    "This dataset represents adversaries enumerating members of domain groups (i.e. Domain Admins) via RPC SAMR interface over SMB. Some of the main RPC methods captured over the network are SamrLookupNamesInDomain (Opnum 17) and SamrQueryInformationGroup (Opnum 20) where there are indicators about the specific group name enumerated."
   ]
  },
  {
   "cell_type": "markdown",
   "metadata": {},
   "source": [
    "## Datasets Downloads"
   ]
  },
  {
   "cell_type": "markdown",
   "metadata": {},
   "source": [
    "\n",
    "| Dataset Type | Link   |\n",
    "|:-------------|:-------|\n",
    "| Host | [https://raw.githubusercontent.com/OTRF/mordor/master/datasets/small/windows/discovery/host/empire_shell_rpc_samr_smb_group_domain_admins_standard_user.zip](https://raw.githubusercontent.com/OTRF/mordor/master/datasets/small/windows/discovery/host/empire_shell_rpc_samr_smb_group_domain_admins_standard_user.zip) |\n",
    "| network | [https://raw.githubusercontent.com/OTRF/mordor/master/datasets/small/windows/discovery/network/empire_shell_rpc_samr_smb_group_domain_admins_standard_user.zip](https://raw.githubusercontent.com/OTRF/mordor/master/datasets/small/windows/discovery/network/empire_shell_rpc_samr_smb_group_domain_admins_standard_user.zip) |"
   ]
  },
  {
   "cell_type": "markdown",
   "metadata": {},
   "source": [
    "## Notebooks\n",
    "Notebooks created by the community leveraging the mordor datasets"
   ]
  },
  {
   "cell_type": "markdown",
   "metadata": {},
   "source": [
    "\n",
    "| Author | Name | Link |\n",
    "|:-------|:-----|:-----|"
   ]
  },
  {
   "cell_type": "markdown",
   "metadata": {},
   "source": [
    "## Simulation Plan"
   ]
  },
  {
   "cell_type": "markdown",
   "metadata": {},
   "source": [
    "\n",
    "| Environment | Tool Type | Module |\n",
    "|:------------|:----------|:-------|\n",
    "| Mordor shire | C2 | [shell](None) |"
   ]
  },
  {
   "cell_type": "markdown",
   "metadata": {},
   "source": [
    "## Adversary View\n",
    "```\n",
    "(Empire: stager/multi/launcher) > \n",
    "[*] Sending POWERSHELL stager (stage 1) to 172.18.39.6\n",
    "[*] New agent GM4LN8V9 checked in\n",
    "[+] Initial agent GM4LN8V9 from 172.18.39.6 now active (Slack)\n",
    "[*] Sending agent (stage 2) to GM4LN8V9 at 172.18.39.6\n",
    "agents\n",
    "\n",
    "[*] Active agents:\n",
    "\n",
    "Name     La Internal IP     Machine Name      Username                Process            PID    Delay    Last Seen            Listener\n",
    "----     -- -----------     ------------      --------                -------            ---    -----    ---------            ----------------\n",
    "A7BWPR32 ps 172.18.39.5     WORKSTATION5      *THESHIRE\\pgustavo      powershell         5904   5/0.0    2020-09-18 18:29:36  http            \n",
    "HBEW9G1D ps 172.18.39.6     WORKSTATION6      THESHIRE\\sbeavers       powershell         6036   5/0.0    2020-09-18 18:15:39  http            \n",
    "UF5MYK42 ps 172.18.39.5     WORKSTATION5      *THESHIRE\\pgustavo      powershell         6404   5/0.0    2020-09-20 21:28:07  http            \n",
    "\n",
    "GM4LN8V9 ps 172.18.39.6     WORKSTATION6      THESHIRE\\sbeavers       powershell         5724   5/0.0    2020-09-21 08:05:25  http            \n",
    "\n",
    "(Empire: agents) > interact GM4LN8V9\n",
    "(Empire: GM4LN8V9) > shell net group \"Domain Admins\" /domain\n",
    "[*] Tasked GM4LN8V9 to run TASK_SHELL\n",
    "[*] Agent GM4LN8V9 tasked with task ID 1\n",
    "(Empire: GM4LN8V9) > \n",
    "The request will be processed at a domain controller for domain theshire.local.\n",
    "\n",
    "Group name     Domain Admins\n",
    "Comment        Designated administrators of the domain\n",
    "\n",
    "Members\n",
    "\n",
    "-------------------------------------------------------------------------------\n",
    "mscott                   pgustavo                 wardog                   \n",
    "The command completed successfully.\n",
    "\n",
    "..Command execution completed.\n",
    "\n",
    "(Empire: GM4LN8V9) >\n",
    "```"
   ]
  },
  {
   "cell_type": "markdown",
   "metadata": {},
   "source": [
    "## Explore Mordor Dataset"
   ]
  },
  {
   "cell_type": "markdown",
   "metadata": {},
   "source": [
    "### Initialize Analytics Engine"
   ]
  },
  {
   "cell_type": "code",
   "execution_count": null,
   "metadata": {},
   "outputs": [],
   "source": [
    "from openhunt.mordorutils import *\n",
    "spark = get_spark()"
   ]
  },
  {
   "cell_type": "markdown",
   "metadata": {},
   "source": [
    "### Download & Process Mordor File"
   ]
  },
  {
   "cell_type": "code",
   "execution_count": null,
   "metadata": {},
   "outputs": [],
   "source": [
    "mordor_file = \"https://raw.githubusercontent.com/OTRF/mordor/master/datasets/small/windows/discovery/host/empire_shell_rpc_samr_smb_group_domain_admins_standard_user.zip\"\n",
    "registerMordorSQLTable(spark, mordor_file, \"mordorTable\")"
   ]
  },
  {
   "cell_type": "markdown",
   "metadata": {},
   "source": [
    "### Get to know your data"
   ]
  },
  {
   "cell_type": "code",
   "execution_count": null,
   "metadata": {},
   "outputs": [],
   "source": [
    "df = spark.sql(\n",
    "'''\n",
    "SELECT Hostname,Channel,EventID, Count(*) as count\n",
    "FROM mordorTable\n",
    "GROUP BY Hostname,Channel,EventID\n",
    "ORDER BY count DESC\n",
    "'''\n",
    ")\n",
    "df.show(truncate=False)"
   ]
  }
 ],
 "metadata": {
  "kernelspec": {
   "display_name": "PySpark_Python3",
   "language": "python",
   "name": "pyspark3"
  },
  "language_info": {
   "codemirror_mode": {
    "name": "ipython",
    "version": 3
   },
   "file_extension": ".py",
   "mimetype": "text/x-python",
   "name": "python",
   "nbconvert_exporter": "python",
   "pygments_lexer": "ipython3",
   "version": "3.7.3"
  }
 },
 "nbformat": 4,
 "nbformat_minor": 4
}
