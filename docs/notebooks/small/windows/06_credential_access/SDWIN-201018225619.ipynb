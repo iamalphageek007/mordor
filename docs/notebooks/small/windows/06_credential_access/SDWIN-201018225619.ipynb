{
 "cells": [
  {
   "cell_type": "markdown",
   "metadata": {},
   "source": [
    "# Lsass Memory Dump via Syscalls"
   ]
  },
  {
   "cell_type": "markdown",
   "metadata": {},
   "source": [
    "## Metadata"
   ]
  },
  {
   "cell_type": "markdown",
   "metadata": {},
   "source": [
    "\n",
    "|                   |    |\n",
    "|:------------------|:---|\n",
    "| Author            | Roberto Rodriguez @Cyb3rWard0g |\n",
    "| Creation Date     | 2020/10/18 |\n",
    "| Modification Date | 2020/10/18 |\n",
    "| Tactics           | ['[TA0006](https://attack.mitre.org/tactics/TA0006)'] |\n",
    "| Techniques        | ['[T1003.001](https://attack.mitre.org/techniques/T1003/001)'] |\n",
    "| Tags              | ['art.7ae7102c-a099-45c8-b985-4c7a2d05790d'] |"
   ]
  },
  {
   "cell_type": "markdown",
   "metadata": {},
   "source": [
    "## Dataset Description\n",
    "This dataset represents adversaries using system calls (syscalls) and API unhooking to dump the memoty contents of lsass."
   ]
  },
  {
   "cell_type": "markdown",
   "metadata": {},
   "source": [
    "## Datasets Downloads"
   ]
  },
  {
   "cell_type": "markdown",
   "metadata": {},
   "source": [
    "\n",
    "| Dataset Type | Link   |\n",
    "|:-------------|:-------|\n",
    "| Host | [https://raw.githubusercontent.com/OTRF/mordor/master/datasets/small/windows/credential_access/host/cmd_lsass_memory_dumpert_syscalls.zip](https://raw.githubusercontent.com/OTRF/mordor/master/datasets/small/windows/credential_access/host/cmd_lsass_memory_dumpert_syscalls.zip) |"
   ]
  },
  {
   "cell_type": "markdown",
   "metadata": {},
   "source": [
    "## Notebooks\n",
    "Notebooks created by the community leveraging the mordor datasets"
   ]
  },
  {
   "cell_type": "markdown",
   "metadata": {},
   "source": [
    "\n",
    "| Author | Name | Link |\n",
    "|:-------|:-----|:-----|"
   ]
  },
  {
   "cell_type": "markdown",
   "metadata": {},
   "source": [
    "## Simulation Plan"
   ]
  },
  {
   "cell_type": "markdown",
   "metadata": {},
   "source": [
    "\n",
    "| Environment | Tool Type | Module |\n",
    "|:------------|:----------|:-------|\n",
    "| Lab VM | Manual | [Cmd](https://github.com/redcanaryco/atomic-red-team/blob/master/atomics/T1003.001/T1003.001.md#atomic-test-4---dump-lsassexe-memory-using-direct-system-calls-and-api-unhooking) |"
   ]
  },
  {
   "cell_type": "markdown",
   "metadata": {},
   "source": [
    "## Adversary View\n",
    "```\n",
    "C:\\Users\\wardog\\Desktop>Outflank-Dumpert.exe\n",
    "________          __    _____.__                 __\n",
    "\\_____  \\  __ ___/  |__/ ____\\  | _____    ____ |  | __\n",
    "  /   |   \\|  |  \\   __\\   __\\|  | \\__  \\  /    \\|  |/ /\n",
    "/    |    \\  |  /|  |  |  |  |  |__/ __ \\|   |  \\    <\n",
    "\\_______  /____/ |__|  |__|  |____(____  /___|  /__|_ \\\n",
    "        \\/                             \\/     \\/     \\/\n",
    "                                  Dumpert\n",
    "                              By Cneeliz @Outflank 2019\n",
    "\n",
    "[1] Checking OS version details:\n",
    "        [+] Operating System is Windows 10 or Server 2016, build number 18363\n",
    "        [+] Mapping version specific System calls.\n",
    "[2] Checking Process details:\n",
    "        [+] Process ID of lsass.exe is: 756\n",
    "        [+] NtReadVirtualMemory function pointer at: 0x00007FFB929DC890\n",
    "        [+] NtReadVirtualMemory System call nr is: 0x3f\n",
    "        [+] Unhooking NtReadVirtualMemory.\n",
    "[3] Create memorydump file:\n",
    "        [+] Open a process handle.\n",
    "        [+] Dump lsass.exe memory to: \\??\\C:\\windows\\Temp\\dumpert.dmp\n",
    "        [+] Dump succesful.\n",
    "\n",
    "C:\\Users\\wardog\\Desktop>\n",
    "```"
   ]
  },
  {
   "cell_type": "markdown",
   "metadata": {},
   "source": [
    "## Explore Mordor Dataset"
   ]
  },
  {
   "cell_type": "markdown",
   "metadata": {},
   "source": [
    "### Initialize Analytics Engine"
   ]
  },
  {
   "cell_type": "code",
   "execution_count": null,
   "metadata": {},
   "outputs": [],
   "source": [
    "from openhunt.mordorutils import *\n",
    "spark = get_spark()"
   ]
  },
  {
   "cell_type": "markdown",
   "metadata": {},
   "source": [
    "### Download & Process Mordor File"
   ]
  },
  {
   "cell_type": "code",
   "execution_count": null,
   "metadata": {},
   "outputs": [],
   "source": [
    "mordor_file = \"https://raw.githubusercontent.com/OTRF/mordor/master/datasets/small/windows/credential_access/host/cmd_lsass_memory_dumpert_syscalls.zip\"\n",
    "registerMordorSQLTable(spark, mordor_file, \"mordorTable\")"
   ]
  },
  {
   "cell_type": "markdown",
   "metadata": {},
   "source": [
    "### Get to know your data"
   ]
  },
  {
   "cell_type": "code",
   "execution_count": null,
   "metadata": {},
   "outputs": [],
   "source": [
    "df = spark.sql(\n",
    "'''\n",
    "SELECT Hostname,Channel,EventID, Count(*) as count\n",
    "FROM mordorTable\n",
    "GROUP BY Hostname,Channel,EventID\n",
    "ORDER BY count DESC\n",
    "'''\n",
    ")\n",
    "df.show(truncate=False)"
   ]
  }
 ],
 "metadata": {
  "kernelspec": {
   "display_name": "PySpark_Python3",
   "language": "python",
   "name": "pyspark3"
  },
  "language_info": {
   "codemirror_mode": {
    "name": "ipython",
    "version": 3
   },
   "file_extension": ".py",
   "mimetype": "text/x-python",
   "name": "python",
   "nbconvert_exporter": "python",
   "pygments_lexer": "ipython3",
   "version": "3.7.3"
  }
 },
 "nbformat": 4,
 "nbformat_minor": 4
}
